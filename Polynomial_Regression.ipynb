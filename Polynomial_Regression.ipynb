{
  "nbformat": 4,
  "nbformat_minor": 0,
  "metadata": {
    "colab": {
      "name": "Polynomial_Regression.ipynb",
      "provenance": [],
      "collapsed_sections": [],
      "authorship_tag": "ABX9TyNd15yIoYTyocZg8AT2nSQ6",
      "include_colab_link": true
    },
    "kernelspec": {
      "name": "python3",
      "display_name": "Python 3"
    },
    "language_info": {
      "name": "python"
    }
  },
  "cells": [
    {
      "cell_type": "markdown",
      "metadata": {
        "id": "view-in-github",
        "colab_type": "text"
      },
      "source": [
        "<a href=\"https://colab.research.google.com/github/salimunlu47/python-scikit-learn/blob/main/Polynomial_Regression.ipynb\" target=\"_parent\"><img src=\"https://colab.research.google.com/assets/colab-badge.svg\" alt=\"Open In Colab\"/></a>"
      ]
    },
    {
      "cell_type": "code",
      "metadata": {
        "id": "5fPE_imsB_sK"
      },
      "source": [
        "import numpy as np\n",
        "import pandas as pd\n",
        "import matplotlib.pyplot as plt\n",
        "import seaborn as sns"
      ],
      "execution_count": 1,
      "outputs": []
    },
    {
      "cell_type": "code",
      "metadata": {
        "colab": {
          "base_uri": "https://localhost:8080/",
          "height": 204
        },
        "id": "FXDl73DdCIe7",
        "outputId": "662ea939-6ee6-4f73-bf18-0a1cf42cac1b"
      },
      "source": [
        "df = pd.read_csv(\"https://raw.githubusercontent.com/salimunlu47/python-scikit-learn/main/datasets/Advertising.csv\")\n",
        "df.head()"
      ],
      "execution_count": 2,
      "outputs": [
        {
          "output_type": "execute_result",
          "data": {
            "text/html": [
              "<div>\n",
              "<style scoped>\n",
              "    .dataframe tbody tr th:only-of-type {\n",
              "        vertical-align: middle;\n",
              "    }\n",
              "\n",
              "    .dataframe tbody tr th {\n",
              "        vertical-align: top;\n",
              "    }\n",
              "\n",
              "    .dataframe thead th {\n",
              "        text-align: right;\n",
              "    }\n",
              "</style>\n",
              "<table border=\"1\" class=\"dataframe\">\n",
              "  <thead>\n",
              "    <tr style=\"text-align: right;\">\n",
              "      <th></th>\n",
              "      <th>TV</th>\n",
              "      <th>radio</th>\n",
              "      <th>newspaper</th>\n",
              "      <th>sales</th>\n",
              "    </tr>\n",
              "  </thead>\n",
              "  <tbody>\n",
              "    <tr>\n",
              "      <th>0</th>\n",
              "      <td>230.1</td>\n",
              "      <td>37.8</td>\n",
              "      <td>69.2</td>\n",
              "      <td>22.1</td>\n",
              "    </tr>\n",
              "    <tr>\n",
              "      <th>1</th>\n",
              "      <td>44.5</td>\n",
              "      <td>39.3</td>\n",
              "      <td>45.1</td>\n",
              "      <td>10.4</td>\n",
              "    </tr>\n",
              "    <tr>\n",
              "      <th>2</th>\n",
              "      <td>17.2</td>\n",
              "      <td>45.9</td>\n",
              "      <td>69.3</td>\n",
              "      <td>9.3</td>\n",
              "    </tr>\n",
              "    <tr>\n",
              "      <th>3</th>\n",
              "      <td>151.5</td>\n",
              "      <td>41.3</td>\n",
              "      <td>58.5</td>\n",
              "      <td>18.5</td>\n",
              "    </tr>\n",
              "    <tr>\n",
              "      <th>4</th>\n",
              "      <td>180.8</td>\n",
              "      <td>10.8</td>\n",
              "      <td>58.4</td>\n",
              "      <td>12.9</td>\n",
              "    </tr>\n",
              "  </tbody>\n",
              "</table>\n",
              "</div>"
            ],
            "text/plain": [
              "      TV  radio  newspaper  sales\n",
              "0  230.1   37.8       69.2   22.1\n",
              "1   44.5   39.3       45.1   10.4\n",
              "2   17.2   45.9       69.3    9.3\n",
              "3  151.5   41.3       58.5   18.5\n",
              "4  180.8   10.8       58.4   12.9"
            ]
          },
          "metadata": {},
          "execution_count": 2
        }
      ]
    },
    {
      "cell_type": "code",
      "metadata": {
        "id": "MALNwkpmCQwl"
      },
      "source": [
        "X = df.drop(\"sales\",axis=1)"
      ],
      "execution_count": 3,
      "outputs": []
    },
    {
      "cell_type": "code",
      "metadata": {
        "id": "P2qA8K0bCXD0"
      },
      "source": [
        "y = df[\"sales\"]"
      ],
      "execution_count": 4,
      "outputs": []
    },
    {
      "cell_type": "code",
      "metadata": {
        "id": "hyr6lYm8CZes"
      },
      "source": [
        "from sklearn.preprocessing import PolynomialFeatures"
      ],
      "execution_count": 5,
      "outputs": []
    },
    {
      "cell_type": "code",
      "metadata": {
        "id": "Cjw37rbHCdWU"
      },
      "source": [
        "polynomial_converter = PolynomialFeatures(degree=2, include_bias=True)"
      ],
      "execution_count": 6,
      "outputs": []
    },
    {
      "cell_type": "code",
      "metadata": {
        "colab": {
          "base_uri": "https://localhost:8080/"
        },
        "id": "hMfiSBXOC0vL",
        "outputId": "84c8129b-0065-421c-9b92-048d5285c486"
      },
      "source": [
        "polynomial_converter.fit(X, y)"
      ],
      "execution_count": 7,
      "outputs": [
        {
          "output_type": "execute_result",
          "data": {
            "text/plain": [
              "PolynomialFeatures(degree=2, include_bias=True, interaction_only=False,\n",
              "                   order='C')"
            ]
          },
          "metadata": {},
          "execution_count": 7
        }
      ]
    },
    {
      "cell_type": "code",
      "metadata": {
        "colab": {
          "base_uri": "https://localhost:8080/"
        },
        "id": "lFXS5_caC617",
        "outputId": "5ffd14dd-1460-43a8-8b19-6b528d507455"
      },
      "source": [
        "polynomial_converter.transform(X)"
      ],
      "execution_count": 8,
      "outputs": [
        {
          "output_type": "execute_result",
          "data": {
            "text/plain": [
              "array([[1.00000e+00, 2.30100e+02, 3.78000e+01, ..., 1.42884e+03,\n",
              "        2.61576e+03, 4.78864e+03],\n",
              "       [1.00000e+00, 4.45000e+01, 3.93000e+01, ..., 1.54449e+03,\n",
              "        1.77243e+03, 2.03401e+03],\n",
              "       [1.00000e+00, 1.72000e+01, 4.59000e+01, ..., 2.10681e+03,\n",
              "        3.18087e+03, 4.80249e+03],\n",
              "       ...,\n",
              "       [1.00000e+00, 1.77000e+02, 9.30000e+00, ..., 8.64900e+01,\n",
              "        5.95200e+01, 4.09600e+01],\n",
              "       [1.00000e+00, 2.83600e+02, 4.20000e+01, ..., 1.76400e+03,\n",
              "        2.78040e+03, 4.38244e+03],\n",
              "       [1.00000e+00, 2.32100e+02, 8.60000e+00, ..., 7.39600e+01,\n",
              "        7.48200e+01, 7.56900e+01]])"
            ]
          },
          "metadata": {},
          "execution_count": 8
        }
      ]
    },
    {
      "cell_type": "code",
      "metadata": {
        "colab": {
          "base_uri": "https://localhost:8080/"
        },
        "id": "9XGbQBk9DDZk",
        "outputId": "829da8e1-8fd3-4a3c-ba7b-246081603e90"
      },
      "source": [
        "X.shape"
      ],
      "execution_count": 9,
      "outputs": [
        {
          "output_type": "execute_result",
          "data": {
            "text/plain": [
              "(200, 3)"
            ]
          },
          "metadata": {},
          "execution_count": 9
        }
      ]
    },
    {
      "cell_type": "code",
      "metadata": {
        "colab": {
          "base_uri": "https://localhost:8080/"
        },
        "id": "GhyhIEvyDQLC",
        "outputId": "133e19a8-c553-4fcb-9d78-6f899a7591e0"
      },
      "source": [
        "X.iloc[0]"
      ],
      "execution_count": 10,
      "outputs": [
        {
          "output_type": "execute_result",
          "data": {
            "text/plain": [
              "TV           230.1\n",
              "radio         37.8\n",
              "newspaper     69.2\n",
              "Name: 0, dtype: float64"
            ]
          },
          "metadata": {},
          "execution_count": 10
        }
      ]
    },
    {
      "cell_type": "code",
      "metadata": {
        "id": "LPaCEhPgDR5R"
      },
      "source": [
        "poly_features = polynomial_converter.transform(X)"
      ],
      "execution_count": 11,
      "outputs": []
    },
    {
      "cell_type": "code",
      "metadata": {
        "colab": {
          "base_uri": "https://localhost:8080/"
        },
        "id": "Ysua247aDYQb",
        "outputId": "98b14a0e-93c5-4dd5-ddc1-770dbf6b178b"
      },
      "source": [
        "poly_features[0] #3 originla, 3 interaction, 3 squared"
      ],
      "execution_count": 12,
      "outputs": [
        {
          "output_type": "execute_result",
          "data": {
            "text/plain": [
              "array([1.000000e+00, 2.301000e+02, 3.780000e+01, 6.920000e+01,\n",
              "       5.294601e+04, 8.697780e+03, 1.592292e+04, 1.428840e+03,\n",
              "       2.615760e+03, 4.788640e+03])"
            ]
          },
          "metadata": {},
          "execution_count": 12
        }
      ]
    },
    {
      "cell_type": "code",
      "metadata": {
        "colab": {
          "base_uri": "https://localhost:8080/"
        },
        "id": "8Dva_UfWDacB",
        "outputId": "5dc26fdf-077d-4f0a-b866-6249882af519"
      },
      "source": [
        "polynomial_converter.fit_transform(X)"
      ],
      "execution_count": 13,
      "outputs": [
        {
          "output_type": "execute_result",
          "data": {
            "text/plain": [
              "array([[1.00000e+00, 2.30100e+02, 3.78000e+01, ..., 1.42884e+03,\n",
              "        2.61576e+03, 4.78864e+03],\n",
              "       [1.00000e+00, 4.45000e+01, 3.93000e+01, ..., 1.54449e+03,\n",
              "        1.77243e+03, 2.03401e+03],\n",
              "       [1.00000e+00, 1.72000e+01, 4.59000e+01, ..., 2.10681e+03,\n",
              "        3.18087e+03, 4.80249e+03],\n",
              "       ...,\n",
              "       [1.00000e+00, 1.77000e+02, 9.30000e+00, ..., 8.64900e+01,\n",
              "        5.95200e+01, 4.09600e+01],\n",
              "       [1.00000e+00, 2.83600e+02, 4.20000e+01, ..., 1.76400e+03,\n",
              "        2.78040e+03, 4.38244e+03],\n",
              "       [1.00000e+00, 2.32100e+02, 8.60000e+00, ..., 7.39600e+01,\n",
              "        7.48200e+01, 7.56900e+01]])"
            ]
          },
          "metadata": {},
          "execution_count": 13
        }
      ]
    },
    {
      "cell_type": "markdown",
      "metadata": {
        "id": "z3NL_jAAF3ar"
      },
      "source": [
        "## Train | Test Split"
      ]
    },
    {
      "cell_type": "code",
      "metadata": {
        "id": "Y4q_XrQTEROU"
      },
      "source": [
        "from sklearn.model_selection import train_test_split"
      ],
      "execution_count": 14,
      "outputs": []
    },
    {
      "cell_type": "code",
      "metadata": {
        "id": "dniqMgVOGF4D"
      },
      "source": [
        "# random_state: \n",
        "# https://stackoverflow.com/questions/28064634/random-state-pseudo-random-number-in-scikit-learn\n",
        "X_train, X_test, y_train, y_test = train_test_split(poly_features, y, test_size=0.3, random_state=101)"
      ],
      "execution_count": 15,
      "outputs": []
    },
    {
      "cell_type": "code",
      "metadata": {
        "id": "B8jXdyHnGZg3"
      },
      "source": [
        "from sklearn.linear_model import LinearRegression"
      ],
      "execution_count": 16,
      "outputs": []
    },
    {
      "cell_type": "code",
      "metadata": {
        "id": "mqvG51zQGhVg"
      },
      "source": [
        "model = LinearRegression()"
      ],
      "execution_count": 17,
      "outputs": []
    },
    {
      "cell_type": "code",
      "metadata": {
        "colab": {
          "base_uri": "https://localhost:8080/"
        },
        "id": "7Ac8nFBaHE5g",
        "outputId": "0832ac7c-ff06-4c09-d8d7-3e6566b5ed0f"
      },
      "source": [
        "model.fit(X_train,y_train)"
      ],
      "execution_count": 18,
      "outputs": [
        {
          "output_type": "execute_result",
          "data": {
            "text/plain": [
              "LinearRegression(copy_X=True, fit_intercept=True, n_jobs=None, normalize=False)"
            ]
          },
          "metadata": {},
          "execution_count": 18
        }
      ]
    },
    {
      "cell_type": "markdown",
      "metadata": {
        "id": "-pV19DJYHMH-"
      },
      "source": [
        "## Evaluation on the Test Set"
      ]
    },
    {
      "cell_type": "code",
      "metadata": {
        "id": "kFo3G0bZHGnW"
      },
      "source": [
        "test_predictions = model.predict(X_test)"
      ],
      "execution_count": 19,
      "outputs": []
    },
    {
      "cell_type": "code",
      "metadata": {
        "colab": {
          "base_uri": "https://localhost:8080/"
        },
        "id": "bEF8hV_OHQzj",
        "outputId": "d0ca1d07-f41a-443f-cf69-f26a965977c2"
      },
      "source": [
        "model.coef_"
      ],
      "execution_count": 20,
      "outputs": [
        {
          "output_type": "execute_result",
          "data": {
            "text/plain": [
              "array([ 0.00000000e+00,  5.17095811e-02,  1.30848864e-02,  1.20000085e-02,\n",
              "       -1.10892474e-04,  1.14212673e-03, -5.24100082e-05,  3.34919737e-05,\n",
              "        1.46380310e-04, -3.04715806e-05])"
            ]
          },
          "metadata": {},
          "execution_count": 20
        }
      ]
    },
    {
      "cell_type": "code",
      "metadata": {
        "id": "gkrQ3f4-HVga"
      },
      "source": [
        "from sklearn.metrics import mean_absolute_error,mean_squared_error"
      ],
      "execution_count": 21,
      "outputs": []
    },
    {
      "cell_type": "code",
      "metadata": {
        "colab": {
          "base_uri": "https://localhost:8080/"
        },
        "id": "JiYPnolwHZYk",
        "outputId": "2bd2e72d-2024-49ac-bb08-d6e444afbc01"
      },
      "source": [
        "MAE = mean_absolute_error(y_test, test_predictions)\n",
        "MAE"
      ],
      "execution_count": 22,
      "outputs": [
        {
          "output_type": "execute_result",
          "data": {
            "text/plain": [
              "0.4896798044802885"
            ]
          },
          "metadata": {},
          "execution_count": 22
        }
      ]
    },
    {
      "cell_type": "code",
      "metadata": {
        "colab": {
          "base_uri": "https://localhost:8080/"
        },
        "id": "kT3hjMm8Hj0N",
        "outputId": "da9cccde-54ef-4085-bcae-2fde78543a90"
      },
      "source": [
        "MSE = mean_squared_error(y_test, test_predictions)\n",
        "MSE"
      ],
      "execution_count": 23,
      "outputs": [
        {
          "output_type": "execute_result",
          "data": {
            "text/plain": [
              "0.441750551040247"
            ]
          },
          "metadata": {},
          "execution_count": 23
        }
      ]
    },
    {
      "cell_type": "code",
      "metadata": {
        "colab": {
          "base_uri": "https://localhost:8080/"
        },
        "id": "Jd_JBIgBHu4Q",
        "outputId": "39fc798f-7dd1-4e6e-d5b4-b17e26494dff"
      },
      "source": [
        "RMSE = np.sqrt(MSE)\n",
        "RMSE"
      ],
      "execution_count": 24,
      "outputs": [
        {
          "output_type": "execute_result",
          "data": {
            "text/plain": [
              "0.6646431757268308"
            ]
          },
          "metadata": {},
          "execution_count": 24
        }
      ]
    },
    {
      "cell_type": "code",
      "metadata": {
        "id": "YecYqfWVH3Q2",
        "colab": {
          "base_uri": "https://localhost:8080/"
        },
        "outputId": "38957168-a92e-49bc-8b84-9484b7857099"
      },
      "source": [
        "model.coef_"
      ],
      "execution_count": 25,
      "outputs": [
        {
          "output_type": "execute_result",
          "data": {
            "text/plain": [
              "array([ 0.00000000e+00,  5.17095811e-02,  1.30848864e-02,  1.20000085e-02,\n",
              "       -1.10892474e-04,  1.14212673e-03, -5.24100082e-05,  3.34919737e-05,\n",
              "        1.46380310e-04, -3.04715806e-05])"
            ]
          },
          "metadata": {},
          "execution_count": 25
        }
      ]
    },
    {
      "cell_type": "code",
      "metadata": {
        "colab": {
          "base_uri": "https://localhost:8080/"
        },
        "id": "zW5Om0e_Qw-s",
        "outputId": "e86cf12f-1315-40c9-a749-7208542a93d5"
      },
      "source": [
        "poly_features[0]"
      ],
      "execution_count": 26,
      "outputs": [
        {
          "output_type": "execute_result",
          "data": {
            "text/plain": [
              "array([1.000000e+00, 2.301000e+02, 3.780000e+01, 6.920000e+01,\n",
              "       5.294601e+04, 8.697780e+03, 1.592292e+04, 1.428840e+03,\n",
              "       2.615760e+03, 4.788640e+03])"
            ]
          },
          "metadata": {},
          "execution_count": 26
        }
      ]
    },
    {
      "cell_type": "code",
      "metadata": {
        "id": "nVVBoET-Q3-2"
      },
      "source": [
        "# TRAINING ERROR PER DEGREE\n",
        "train_rmse_errors = []\n",
        "# TEST ERROR PER DEGREE\n",
        "test_rmse_errors = []\n",
        "\n",
        "for d in range(1,10):\n",
        "    \n",
        "    # CREATE POLY DATA SET FOR DEGREE \"d\"\n",
        "    polynomial_converter = PolynomialFeatures(degree=d,include_bias=False)\n",
        "    poly_features = polynomial_converter.fit_transform(X)\n",
        "    \n",
        "    # SPLIT THIS NEW POLY DATA SET\n",
        "    X_train, X_test, y_train, y_test = train_test_split(poly_features, y, test_size=0.3, random_state=101)\n",
        "    \n",
        "    # TRAIN ON THIS NEW POLY SET\n",
        "    model = LinearRegression(fit_intercept=True)\n",
        "    model.fit(X_train,y_train)\n",
        "    \n",
        "    # PREDICT ON BOTH TRAIN AND TEST\n",
        "    train_pred = model.predict(X_train)\n",
        "    test_pred = model.predict(X_test)\n",
        "    \n",
        "    # Calculate Errors\n",
        "    \n",
        "    # Errors on Train Set\n",
        "    train_RMSE = np.sqrt(mean_squared_error(y_train,train_pred))\n",
        "    \n",
        "    # Errors on Test Set\n",
        "    test_RMSE = np.sqrt(mean_squared_error(y_test,test_pred))\n",
        "\n",
        "    # Append errors to lists for plotting later\n",
        "    \n",
        "    train_rmse_errors.append(train_RMSE)\n",
        "    test_rmse_errors.append(test_RMSE)"
      ],
      "execution_count": 27,
      "outputs": []
    },
    {
      "cell_type": "code",
      "metadata": {
        "colab": {
          "base_uri": "https://localhost:8080/"
        },
        "id": "S_cdlnk7jZnF",
        "outputId": "f9963eaa-9887-4850-a81a-94f0e6f55790"
      },
      "source": [
        "train_rmse_errors"
      ],
      "execution_count": 28,
      "outputs": [
        {
          "output_type": "execute_result",
          "data": {
            "text/plain": [
              "[1.7345941243293763,\n",
              " 0.5879574085292231,\n",
              " 0.43393443569020695,\n",
              " 0.3517083688399345,\n",
              " 0.2509342962601729,\n",
              " 0.20872723323990613,\n",
              " 5.42157751435276,\n",
              " 0.140867515824127,\n",
              " 0.17118580360234556]"
            ]
          },
          "metadata": {},
          "execution_count": 28
        }
      ]
    },
    {
      "cell_type": "code",
      "metadata": {
        "colab": {
          "base_uri": "https://localhost:8080/"
        },
        "id": "B2yu0mW3keKl",
        "outputId": "48db7b73-526d-4d8b-bd18-9ad9583eb580"
      },
      "source": [
        "test_rmse_errors"
      ],
      "execution_count": 29,
      "outputs": [
        {
          "output_type": "execute_result",
          "data": {
            "text/plain": [
              "[1.5161519375993882,\n",
              " 0.6646431757269274,\n",
              " 0.5803286825215619,\n",
              " 0.5077742637898888,\n",
              " 2.5758141220971607,\n",
              " 4.335318691649054,\n",
              " 1379.1716104914929,\n",
              " 4129.0608136161545,\n",
              " 96107.72947631204]"
            ]
          },
          "metadata": {},
          "execution_count": 29
        }
      ]
    },
    {
      "cell_type": "code",
      "metadata": {
        "colab": {
          "base_uri": "https://localhost:8080/",
          "height": 296
        },
        "id": "1ILdBZISklDq",
        "outputId": "b7b7c9ef-d325-4ee4-d3d2-c1ab753638ff"
      },
      "source": [
        "plt.plot(range(1,6),train_rmse_errors[:5],label='TRAIN')\n",
        "plt.plot(range(1,6),test_rmse_errors[:5],label='TEST')\n",
        "plt.xlabel(\"Polynomial Complexity\")\n",
        "plt.ylabel(\"RMSE\")\n",
        "plt.legend()"
      ],
      "execution_count": 30,
      "outputs": [
        {
          "output_type": "execute_result",
          "data": {
            "text/plain": [
              "<matplotlib.legend.Legend at 0x7fc891f21c50>"
            ]
          },
          "metadata": {},
          "execution_count": 30
        },
        {
          "output_type": "display_data",
          "data": {
            "image/png": "[encoded data removed]",
            "text/plain": [
              "<Figure size 432x288 with 1 Axes>"
            ]
          },
          "metadata": {
            "needs_background": "light"
          }
        }
      ]
    },
    {
      "cell_type": "markdown",
      "metadata": {
        "id": "x0CS_yqTlweG"
      },
      "source": [
        "## Finalizing Model Choice\n",
        "\n",
        "There are now 2 things we need to save, the Polynomial Feature creator AND the model itself. Let's explore how we would proceed from here:\n",
        "\n",
        "1. Choose final parameters based on test metrics\n",
        "2. Retrain on all data\n",
        "3. Save Polynomial Converter object\n",
        "4. Save model"
      ]
    },
    {
      "cell_type": "code",
      "metadata": {
        "id": "a7aOIJf6kwLi"
      },
      "source": [
        "# Based on our chart, could have also been degree=4, but \n",
        "# it is better to be on the safe side of complexity\n",
        "final_poly_converter = PolynomialFeatures(degree=3,include_bias=False)"
      ],
      "execution_count": 31,
      "outputs": []
    },
    {
      "cell_type": "code",
      "metadata": {
        "id": "j6DHfJtul2iy"
      },
      "source": [
        "final_model = LinearRegression()"
      ],
      "execution_count": 32,
      "outputs": []
    },
    {
      "cell_type": "code",
      "metadata": {
        "colab": {
          "base_uri": "https://localhost:8080/"
        },
        "id": "6gRvascAmA3v",
        "outputId": "bfcefc80-3633-4431-b0f1-703c7e5546a2"
      },
      "source": [
        "final_model.fit(final_poly_converter.fit_transform(X),y)"
      ],
      "execution_count": 33,
      "outputs": [
        {
          "output_type": "execute_result",
          "data": {
            "text/plain": [
              "LinearRegression(copy_X=True, fit_intercept=True, n_jobs=None, normalize=False)"
            ]
          },
          "metadata": {},
          "execution_count": 33
        }
      ]
    },
    {
      "cell_type": "markdown",
      "metadata": {
        "id": "6MFGTgc0mO_z"
      },
      "source": [
        "### Saving Model and Converter"
      ]
    },
    {
      "cell_type": "code",
      "metadata": {
        "id": "6rzJcdECmOi7"
      },
      "source": [
        "from joblib import dump, load"
      ],
      "execution_count": 34,
      "outputs": []
    },
    {
      "cell_type": "code",
      "metadata": {
        "colab": {
          "base_uri": "https://localhost:8080/"
        },
        "id": "vDNG76i7mHoj",
        "outputId": "53484a9e-aa41-42f5-c34d-b21e68f3d7aa"
      },
      "source": [
        "dump(final_model, 'sales_poly_model.joblib') "
      ],
      "execution_count": 35,
      "outputs": [
        {
          "output_type": "execute_result",
          "data": {
            "text/plain": [
              "['sales_poly_model.joblib']"
            ]
          },
          "metadata": {},
          "execution_count": 35
        }
      ]
    },
    {
      "cell_type": "code",
      "metadata": {
        "colab": {
          "base_uri": "https://localhost:8080/"
        },
        "id": "AvnF18UdmTRd",
        "outputId": "c3209149-b28c-4044-ef40-a1164814d422"
      },
      "source": [
        "dump(final_poly_converter,'poly_converter.joblib')"
      ],
      "execution_count": 36,
      "outputs": [
        {
          "output_type": "execute_result",
          "data": {
            "text/plain": [
              "['poly_converter.joblib']"
            ]
          },
          "metadata": {},
          "execution_count": 36
        }
      ]
    },
    {
      "cell_type": "code",
      "metadata": {
        "id": "Kv9Oo39tma4x"
      },
      "source": [
        "loaded_poly = load('poly_converter.joblib')\n",
        "loaded_model = load('sales_poly_model.joblib')"
      ],
      "execution_count": 37,
      "outputs": []
    },
    {
      "cell_type": "code",
      "metadata": {
        "id": "aPpX5c_ZmeSv"
      },
      "source": [
        "campaign = [[149,22,12]]"
      ],
      "execution_count": 38,
      "outputs": []
    },
    {
      "cell_type": "code",
      "metadata": {
        "id": "4hQ2VI97mgEv"
      },
      "source": [
        "campaign_poly = loaded_poly.transform(campaign)"
      ],
      "execution_count": 39,
      "outputs": []
    },
    {
      "cell_type": "code",
      "metadata": {
        "colab": {
          "base_uri": "https://localhost:8080/"
        },
        "id": "kTXGsxh4miv5",
        "outputId": "1f87700d-5228-43ae-c7ec-f28931187b30"
      },
      "source": [
        "campaign_poly"
      ],
      "execution_count": 40,
      "outputs": [
        {
          "output_type": "execute_result",
          "data": {
            "text/plain": [
              "array([[1.490000e+02, 2.200000e+01, 1.200000e+01, 2.220100e+04,\n",
              "        3.278000e+03, 1.788000e+03, 4.840000e+02, 2.640000e+02,\n",
              "        1.440000e+02, 3.307949e+06, 4.884220e+05, 2.664120e+05,\n",
              "        7.211600e+04, 3.933600e+04, 2.145600e+04, 1.064800e+04,\n",
              "        5.808000e+03, 3.168000e+03, 1.728000e+03]])"
            ]
          },
          "metadata": {},
          "execution_count": 40
        }
      ]
    },
    {
      "cell_type": "code",
      "metadata": {
        "colab": {
          "base_uri": "https://localhost:8080/"
        },
        "id": "HhXG7oLlmkyR",
        "outputId": "ae76eb74-95a8-447e-862a-bdf0c523a855"
      },
      "source": [
        "final_model.predict(campaign_poly)"
      ],
      "execution_count": 41,
      "outputs": [
        {
          "output_type": "execute_result",
          "data": {
            "text/plain": [
              "array([14.64501014])"
            ]
          },
          "metadata": {},
          "execution_count": 41
        }
      ]
    },
    {
      "cell_type": "code",
      "metadata": {
        "id": "b7XMvalQmsUh"
      },
      "source": [
        ""
      ],
      "execution_count": 41,
      "outputs": []
    }
  ]
}